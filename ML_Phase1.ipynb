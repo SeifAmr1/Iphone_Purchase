{
  "cells": [
    {
      "cell_type": "markdown",
      "metadata": {
        "id": "view-in-github",
        "colab_type": "text"
      },
      "source": [
        "<a href=\"https://colab.research.google.com/github/SeifAmr1/Iphone_Purchase/blob/main/ML_Phase1.ipynb\" target=\"_parent\"><img src=\"https://colab.research.google.com/assets/colab-badge.svg\" alt=\"Open In Colab\"/></a>"
      ]
    },
    {
      "cell_type": "code",
      "execution_count": null,
      "metadata": {
        "id": "nHiJ30sKhucw"
      },
      "outputs": [],
      "source": [
        "\n",
        "import pandas as pd\n",
        "from sklearn.model_selection import train_test_split\n",
        "from sklearn.preprocessing import StandardScaler\n",
        "from sklearn.naive_bayes import GaussianNB\n",
        "from sklearn.neighbors import KNeighborsClassifier\n",
        "from sklearn.metrics import accuracy_score\n",
        "from sklearn.preprocessing import LabelEncoder\n",
        "import matplotlib.pyplot as plt\n"
      ]
    },
    {
      "cell_type": "markdown",
      "source": [
        "# **Loading and Preprocessing**"
      ],
      "metadata": {
        "id": "VAgGpLgyqr3Y"
      }
    },
    {
      "cell_type": "code",
      "execution_count": null,
      "metadata": {
        "id": "YWB0rcDVhucz"
      },
      "outputs": [],
      "source": [
        "# Load the dataset\n",
        "df = pd.read_csv('Iphone_purchase.csv')\n",
        "\n",
        "\n",
        "# Drop the 'User ID' column\n",
        "df.drop('User ID', axis=1, inplace=True)\n",
        "\n",
        "# Preprocess the data\n",
        "\n",
        "# Encoding categorical column 'Gender'\n",
        "\n",
        "labelEncoder = LabelEncoder()\n",
        "labelEncoder.fit(df[\"Gender\"])\n",
        "df[\"Gender\"] = labelEncoder.transform(df[\"Gender\"])\n",
        "\n",
        "# Splitting the data into features (X) and target variable (y)\n",
        "X = df[['Gender', 'Age', 'EstimatedSalary']]\n",
        "y = df['Purchased']\n",
        "\n",
        "# Splitting the data into training and testing sets\n",
        "X_train, X_test, y_train, y_test = train_test_split(X, y, test_size=0.2, random_state=42)\n",
        "\n",
        "# Apply SMOTE to balance the training data\n",
        "smote = SMOTE(random_state=42)\n",
        "X_train_smote, y_train_smote = smote.fit_resample(X_train, y_train)\n",
        "\n",
        "# Feature scaling using StandardScaler\n",
        "scalerr = StandardScaler()\n",
        "X_train_scaled = scalerr.fit_transform(X_train_smote)\n",
        "X_test_scaled = scalerr.transform(X_test)\n",
        "\n",
        "\n",
        "# Scaling using MinMaxScaler, normalizing balanced classes gives same accuracies\n",
        "scaler = MinMaxScaler()\n",
        "X_train_normalized = scaler.fit_transform(X_train_smote)\n",
        "X_test_normalized = scaler.transform(X_test)\n",
        "\n"
      ]
    },
    {
      "cell_type": "markdown",
      "metadata": {
        "id": "iKOrN2Xkhuc1"
      },
      "source": [
        "## **Naive Bayes Classification**"
      ]
    },
    {
      "cell_type": "code",
      "execution_count": null,
      "metadata": {
        "id": "4v8LiCc5huc2",
        "colab": {
          "base_uri": "https://localhost:8080/"
        },
        "outputId": "d5a5f75d-9194-4261-b041-0afdad67460e"
      },
      "outputs": [
        {
          "output_type": "stream",
          "name": "stdout",
          "text": [
            "Naive Bayes Classifier Accuracy: 95.00%\n",
            "Confusion Matrix:\n",
            "[[49  3]\n",
            " [ 1 27]]\n",
            "Classification Report:\n",
            "              precision    recall  f1-score   support\n",
            "\n",
            "           0       0.98      0.94      0.96        52\n",
            "           1       0.90      0.96      0.93        28\n",
            "\n",
            "    accuracy                           0.95        80\n",
            "   macro avg       0.94      0.95      0.95        80\n",
            "weighted avg       0.95      0.95      0.95        80\n",
            "\n"
          ]
        }
      ],
      "source": [
        "import pandas as pd\n",
        "from sklearn.model_selection import train_test_split, GridSearchCV\n",
        "from sklearn.preprocessing import LabelEncoder, StandardScaler, MinMaxScaler\n",
        "from sklearn.naive_bayes import GaussianNB, CategoricalNB\n",
        "from sklearn.metrics import accuracy_score, confusion_matrix, classification_report\n",
        "import numpy as np\n",
        "from imblearn.over_sampling import SMOTE\n",
        "\n",
        "# Load the dataset\n",
        "df = pd.read_csv('Iphone_purchase.csv')\n",
        "\n",
        "# Drop the 'User ID' column\n",
        "df.drop('User ID', axis=1, inplace=True)\n",
        "\n",
        "# Preprocess the data\n",
        "# Encoding categorical column 'Gender'\n",
        "labelEncoder = LabelEncoder()\n",
        "df[\"Gender\"] = labelEncoder.fit_transform(df[\"Gender\"])\n",
        "\n",
        "# Splitting the data into features (X) and target variable (y)\n",
        "X = df[['Gender', 'Age', 'EstimatedSalary']]\n",
        "y = df['Purchased']\n",
        "\n",
        "# Splitting the data into training and testing sets\n",
        "X_train, X_test, y_train, y_test = train_test_split(X, y, test_size=0.2, random_state=42)\n",
        "\n",
        "# Apply SMOTE to balance the training data\n",
        "smote = SMOTE(random_state=42)\n",
        "X_train_smote, y_train_smote = smote.fit_resample(X_train, y_train)\n",
        "\n",
        "# Separate continuous and categorical features\n",
        "continuous_features = ['Age', 'EstimatedSalary']\n",
        "categorical_feature = ['Gender']\n",
        "\n",
        "X_train_continuous = X_train_smote[continuous_features]\n",
        "X_test_continuous = X_test[continuous_features]\n",
        "\n",
        "X_train_categorical = X_train_smote[categorical_feature]\n",
        "X_test_categorical = X_test[categorical_feature]\n",
        "\n",
        "# Scale continuous features\n",
        "scaler = StandardScaler()\n",
        "X_train_continuous_scaled = scaler.fit_transform(X_train_continuous)\n",
        "X_test_continuous_scaled = scaler.transform(X_test_continuous)\n",
        "\n",
        "\n",
        "# scaler = MinMaxScaler()\n",
        "# X_train_continous_normalized = scaler.fit_transform(X_train_smote)\n",
        "# X_test_continous_normalized = scaler.transform(X_test)\n",
        "\n",
        "# Define parameter grid for smoothing hyperparameter tuning\n",
        "param_grid_gnb = {'var_smoothing': np.logspace(0, -9, num=100)}\n",
        "param_grid_cnb = {'alpha': np.logspace(0, -9, num=100)}\n",
        "\n",
        "# Perform GridSearchCV for GaussianNB\n",
        "gnb = GaussianNB()\n",
        "grid_search_gnb = GridSearchCV(estimator=gnb, param_grid=param_grid_gnb, cv=5, scoring='accuracy')\n",
        "grid_search_gnb.fit(X_train_continuous_scaled, y_train_smote)\n",
        "best_gnb = grid_search_gnb.best_estimator_\n",
        "\n",
        "# Perform GridSearchCV for CategoricalNB\n",
        "cnb = CategoricalNB()\n",
        "grid_search_cnb = GridSearchCV(estimator=cnb, param_grid=param_grid_cnb, cv=5, scoring='accuracy')\n",
        "grid_search_cnb.fit(X_train_categorical, y_train_smote)\n",
        "best_cnb = grid_search_cnb.best_estimator_\n",
        "\n",
        "# Predict probabilities for continuous features using the best GNB model\n",
        "gnb_proba = best_gnb.predict_proba(X_test_continuous_scaled)\n",
        "\n",
        "# Predict probabilities for categorical features using the best CNB model\n",
        "cnb_proba = best_cnb.predict_proba(X_test_categorical)\n",
        "\n",
        "# Combine the probabilities (product of probabilities)\n",
        "combined_proba = gnb_proba * cnb_proba\n",
        "\n",
        "# Predict the class with the highest combined probability\n",
        "y_pred = np.argmax(combined_proba, axis=1)\n",
        "\n",
        "# Evaluate the model\n",
        "NB_accuracy = accuracy_score(y_test, y_pred)\n",
        "conf_matrix = confusion_matrix(y_test, y_pred)\n",
        "class_report = classification_report(y_test, y_pred)\n",
        "\n",
        "print(f'Naive Bayes Classifier Accuracy: {NB_accuracy * 100:.2f}%')\n",
        "print('Confusion Matrix:')\n",
        "print(conf_matrix)\n",
        "print('Classification Report:')\n",
        "print(class_report)\n"
      ]
    },
    {
      "cell_type": "markdown",
      "source": [
        "# **KNN Classifier**"
      ],
      "metadata": {
        "id": "5kvW4OgIrzff"
      }
    },
    {
      "cell_type": "code",
      "execution_count": null,
      "metadata": {
        "id": "1dQz-xH1huc3",
        "colab": {
          "base_uri": "https://localhost:8080/"
        },
        "outputId": "c4911d5c-4829-4592-b4b2-0f1b9e2aea44"
      },
      "outputs": [
        {
          "output_type": "stream",
          "name": "stdout",
          "text": [
            "Best Hyperparameters: {'metric': 'manhattan', 'n_neighbors': 10, 'weights': 'distance'}\n",
            "Best Accuracy: 0.9243902439024391\n",
            "Best KNN Classifier Accuracy on Test Set: 0.9375\n"
          ]
        }
      ],
      "source": [
        "\n",
        "# Define the parameter grid\n",
        "param_grid = {\n",
        "    'n_neighbors': list(range(1, 11)),\n",
        "    'weights': ['uniform', 'distance'],\n",
        "    'metric': ['euclidean', 'manhattan']\n",
        "}\n",
        "\n",
        "# Create a KNN classifier\n",
        "knn_classifier = KNeighborsClassifier()\n",
        "\n",
        "# Create GridSearchCV object\n",
        "grid_search = GridSearchCV(estimator=knn_classifier, param_grid=param_grid, cv=2, scoring='accuracy')\n",
        "\n",
        "# Fit the GridSearchCV object to the training data\n",
        "grid_search.fit(X_train_normalized, y_train_smote)\n",
        "\n",
        "# Get the best hyperparameters and best accuracy\n",
        "best_params = grid_search.best_params_\n",
        "best_accuracy = grid_search.best_score_\n",
        "\n",
        "print(\"Best Hyperparameters:\", best_params)\n",
        "print(\"Best Accuracy:\", best_accuracy)\n",
        "\n",
        "# Test the best KNN classifier on the test set\n",
        "best_knn_classifier = grid_search.best_estimator_\n",
        "best_knn_predictions = best_knn_classifier.predict(X_test_normalized)\n",
        "best_knn_accuracy = accuracy_score(y_test, best_knn_predictions)\n",
        "print(\"Best KNN Classifier Accuracy on Test Set:\", best_knn_accuracy)\n",
        "\n",
        "# using manual tuning gave 95 accuracy but i used gridsearch for generalization and scalability\n"
      ]
    },
    {
      "cell_type": "markdown",
      "metadata": {
        "id": "EbA_qY9Nhuc3"
      },
      "source": [
        "## Visualization"
      ]
    },
    {
      "cell_type": "code",
      "execution_count": null,
      "metadata": {
        "id": "JVkKmG1yhuc4",
        "colab": {
          "base_uri": "https://localhost:8080/",
          "height": 472
        },
        "outputId": "3cd2822e-86d0-4e47-8283-2ad01668f52e"
      },
      "outputs": [
        {
          "output_type": "display_data",
          "data": {
            "text/plain": [
              "<Figure size 640x480 with 1 Axes>"
            ],
            "image/png": "[encoded data removed]"
          },
          "metadata": {}
        }
      ],
      "source": [
        "classifiers = ['KNN', 'Naive Bayes']\n",
        "accuracies = [best_knn_accuracy, NB_accuracy]\n",
        "\n",
        "plt.bar(classifiers, accuracies, color=['blue', 'orange'])\n",
        "plt.xlabel('Classifier')\n",
        "plt.ylabel('Accuracy')\n",
        "plt.title('Comparison of Classifier Accuracies')\n",
        "plt.ylim(0, 1)  # Set y-axis limit to 0-1 for accuracy percentage\n",
        "plt.show()"
      ]
    },
    {
      "cell_type": "markdown",
      "metadata": {
        "id": "_0hKFOqXhuc5"
      },
      "source": [
        "## Detect Outliers"
      ]
    }
  ],
  "metadata": {
    "kernelspec": {
      "display_name": "Python 3",
      "language": "python",
      "name": "python3"
    },
    "language_info": {
      "codemirror_mode": {
        "name": "ipython",
        "version": 3
      },
      "file_extension": ".py",
      "mimetype": "text/x-python",
      "name": "python",
      "nbconvert_exporter": "python",
      "pygments_lexer": "ipython3",
      "version": "3.10.7"
    },
    "colab": {
      "provenance": [],
      "include_colab_link": true
    }
  },
  "nbformat": 4,
  "nbformat_minor": 0
}