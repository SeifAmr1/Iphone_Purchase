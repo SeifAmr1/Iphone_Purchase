{
  "cells": [
    {
      "cell_type": "markdown",
      "metadata": {
        "id": "view-in-github",
        "colab_type": "text"
      },
      "source": [
        "<a href=\"https://colab.research.google.com/github/SeifAmr1/Iphone_Purchase/blob/main/ML_Phase2.ipynb\" target=\"_parent\"><img src=\"https://colab.research.google.com/assets/colab-badge.svg\" alt=\"Open In Colab\"/></a>"
      ]
    },
    {
      "cell_type": "markdown",
      "source": [
        "# **Importing Libraries**"
      ],
      "metadata": {
        "id": "RRVlMz1Xvs7X"
      }
    },
    {
      "cell_type": "code",
      "execution_count": null,
      "metadata": {
        "id": "nHiJ30sKhucw"
      },
      "outputs": [],
      "source": [
        "import pandas as pd\n",
        "from sklearn.model_selection import train_test_split, GridSearchCV\n",
        "from sklearn.preprocessing import StandardScaler, MinMaxScaler, LabelEncoder\n",
        "from sklearn.metrics import accuracy_score\n",
        "from sklearn.neural_network import MLPClassifier\n",
        "import matplotlib.pyplot as plt\n",
        "from imblearn.over_sampling import SMOTE\n",
        "from sklearn.svm import SVC\n",
        "from sklearn.tree import DecisionTreeClassifier"
      ]
    },
    {
      "cell_type": "markdown",
      "metadata": {
        "id": "iKOrN2Xkhuc1"
      },
      "source": [
        "## **Loading and Preprocessing**"
      ]
    },
    {
      "cell_type": "code",
      "execution_count": null,
      "metadata": {
        "id": "4v8LiCc5huc2",
        "colab": {
          "base_uri": "https://localhost:8080/"
        },
        "outputId": "5a7e2117-550a-459c-fd93-26069d0df416"
      },
      "outputs": [
        {
          "output_type": "stream",
          "name": "stderr",
          "text": [
            "/usr/local/lib/python3.10/dist-packages/sklearn/preprocessing/_encoders.py:868: FutureWarning: `sparse` was renamed to `sparse_output` in version 1.2 and will be removed in 1.4. `sparse_output` is ignored unless you leave `sparse` to its default value.\n",
            "  warnings.warn(\n"
          ]
        }
      ],
      "source": [
        "from sklearn.preprocessing import OneHotEncoder\n",
        "\n",
        "# Load the dataset\n",
        "df = pd.read_csv('Iphone_purchase.csv')\n",
        "\n",
        "# Drop the 'User ID' column\n",
        "df.drop('User ID', axis=1, inplace=True)\n",
        "\n",
        "# Preprocess the data\n",
        "# Encoding categorical column 'Gender' using OneHotEncoder\n",
        "onehot_encoder = OneHotEncoder(drop='first', sparse=False)\n",
        "gender_encoded = onehot_encoder.fit_transform(df[['Gender']])\n",
        "gender_encoded_df = pd.DataFrame(gender_encoded, columns=['Gender_Male'])\n",
        "df = pd.concat([df.drop('Gender', axis=1), gender_encoded_df], axis=1)\n",
        "\n",
        "# Encoding categorical column 'Gender'\n",
        "# labelEncoder = LabelEncoder()\n",
        "# labelEncoder.fit(df[\"Gender\"])\n",
        "# df[\"Gender\"] = labelEncoder.transform(df[\"Gender\"])\n",
        "\n",
        "\n",
        "# Splitting the data into features (X) and target variable (y)\n",
        "X = df[['Gender_Male', 'Age', 'EstimatedSalary']]\n",
        "y = df['Purchased']\n",
        "\n",
        "# Splitting the data into training and testing sets\n",
        "X_train, X_test, y_train, y_test = train_test_split(X, y, test_size=0.2, random_state=42)\n",
        "\n",
        "# Apply SMOTE to balance the training data\n",
        "smote = SMOTE(random_state=42)\n",
        "X_train_smote, y_train_smote = smote.fit_resample(X_train, y_train)\n",
        "\n",
        "# Scaling using MinMaxScaler, normalizing balanced classes gives same accuracies\n",
        "scaler = MinMaxScaler()\n",
        "X_train_normalized = scaler.fit_transform(X_train_smote)\n",
        "X_test_normalized = scaler.transform(X_test)\n",
        "\n",
        "# Standardize the features using StandardScaler for comparison, standardizing balanced classes gives lower accuracies\n",
        "scaler = StandardScaler()\n",
        "X_train_scaled = scaler.fit_transform(X_train)\n",
        "X_test_scaled = scaler.transform(X_test)\n",
        "\n",
        "# scaling balanced classes\n",
        "scaler_smote = StandardScaler()\n",
        "X_train_scaled_smote = scaler_smote.fit_transform(X_train_smote)\n",
        "X_test_scaled_smote = scaler_smote.transform(X_test)\n"
      ]
    },
    {
      "cell_type": "code",
      "execution_count": null,
      "metadata": {
        "id": "1dQz-xH1huc3",
        "colab": {
          "base_uri": "https://localhost:8080/",
          "height": 206
        },
        "outputId": "0bfe8d38-95be-4731-a68d-6b4084ad0803"
      },
      "outputs": [
        {
          "output_type": "execute_result",
          "data": {
            "text/plain": [
              "   Gender  Age  EstimatedSalary  Purchased\n",
              "0       1   19            19000          0\n",
              "1       1   35            20000          0\n",
              "2       0   26            43000          0\n",
              "3       0   27            57000          0\n",
              "4       1   19            76000          0"
            ],
            "text/html": [
              "\n",
              "  <div id=\"df-35f2d616-66e4-4ae8-a07f-390d6d4495d2\" class=\"colab-df-container\">\n",
              "    <div>\n",
              "<style scoped>\n",
              "    .dataframe tbody tr th:only-of-type {\n",
              "        vertical-align: middle;\n",
              "    }\n",
              "\n",
              "    .dataframe tbody tr th {\n",
              "        vertical-align: top;\n",
              "    }\n",
              "\n",
              "    .dataframe thead th {\n",
              "        text-align: right;\n",
              "    }\n",
              "</style>\n",
              "<table border=\"1\" class=\"dataframe\">\n",
              "  <thead>\n",
              "    <tr style=\"text-align: right;\">\n",
              "      <th></th>\n",
              "      <th>Gender</th>\n",
              "      <th>Age</th>\n",
              "      <th>EstimatedSalary</th>\n",
              "      <th>Purchased</th>\n",
              "    </tr>\n",
              "  </thead>\n",
              "  <tbody>\n",
              "    <tr>\n",
              "      <th>0</th>\n",
              "      <td>1</td>\n",
              "      <td>19</td>\n",
              "      <td>19000</td>\n",
              "      <td>0</td>\n",
              "    </tr>\n",
              "    <tr>\n",
              "      <th>1</th>\n",
              "      <td>1</td>\n",
              "      <td>35</td>\n",
              "      <td>20000</td>\n",
              "      <td>0</td>\n",
              "    </tr>\n",
              "    <tr>\n",
              "      <th>2</th>\n",
              "      <td>0</td>\n",
              "      <td>26</td>\n",
              "      <td>43000</td>\n",
              "      <td>0</td>\n",
              "    </tr>\n",
              "    <tr>\n",
              "      <th>3</th>\n",
              "      <td>0</td>\n",
              "      <td>27</td>\n",
              "      <td>57000</td>\n",
              "      <td>0</td>\n",
              "    </tr>\n",
              "    <tr>\n",
              "      <th>4</th>\n",
              "      <td>1</td>\n",
              "      <td>19</td>\n",
              "      <td>76000</td>\n",
              "      <td>0</td>\n",
              "    </tr>\n",
              "  </tbody>\n",
              "</table>\n",
              "</div>\n",
              "    <div class=\"colab-df-buttons\">\n",
              "\n",
              "  <div class=\"colab-df-container\">\n",
              "    <button class=\"colab-df-convert\" onclick=\"convertToInteractive('df-35f2d616-66e4-4ae8-a07f-390d6d4495d2')\"\n",
              "            title=\"Convert this dataframe to an interactive table.\"\n",
              "            style=\"display:none;\">\n",
              "\n",
              "  <svg xmlns=\"http://www.w3.org/2000/svg\" height=\"24px\" viewBox=\"0 -960 960 960\">\n",
              "    <path d=\"M120-120v-720h720v720H120Zm60-500h600v-160H180v160Zm220 220h160v-160H400v160Zm0 220h160v-160H400v160ZM180-400h160v-160H180v160Zm440 0h160v-160H620v160ZM180-180h160v-160H180v160Zm440 0h160v-160H620v160Z\"/>\n",
              "  </svg>\n",
              "    </button>\n",
              "\n",
              "  <style>\n",
              "    .colab-df-container {\n",
              "      display:flex;\n",
              "      gap: 12px;\n",
              "    }\n",
              "\n",
              "    .colab-df-convert {\n",
              "      background-color: #E8F0FE;\n",
              "      border: none;\n",
              "      border-radius: 50%;\n",
              "      cursor: pointer;\n",
              "      display: none;\n",
              "      fill: #1967D2;\n",
              "      height: 32px;\n",
              "      padding: 0 0 0 0;\n",
              "      width: 32px;\n",
              "    }\n",
              "\n",
              "    .colab-df-convert:hover {\n",
              "      background-color: #E2EBFA;\n",
              "      box-shadow: 0px 1px 2px rgba(60, 64, 67, 0.3), 0px 1px 3px 1px rgba(60, 64, 67, 0.15);\n",
              "      fill: #174EA6;\n",
              "    }\n",
              "\n",
              "    .colab-df-buttons div {\n",
              "      margin-bottom: 4px;\n",
              "    }\n",
              "\n",
              "    [theme=dark] .colab-df-convert {\n",
              "      background-color: #3B4455;\n",
              "      fill: #D2E3FC;\n",
              "    }\n",
              "\n",
              "    [theme=dark] .colab-df-convert:hover {\n",
              "      background-color: #434B5C;\n",
              "      box-shadow: 0px 1px 3px 1px rgba(0, 0, 0, 0.15);\n",
              "      filter: drop-shadow(0px 1px 2px rgba(0, 0, 0, 0.3));\n",
              "      fill: #FFFFFF;\n",
              "    }\n",
              "  </style>\n",
              "\n",
              "    <script>\n",
              "      const buttonEl =\n",
              "        document.querySelector('#df-35f2d616-66e4-4ae8-a07f-390d6d4495d2 button.colab-df-convert');\n",
              "      buttonEl.style.display =\n",
              "        google.colab.kernel.accessAllowed ? 'block' : 'none';\n",
              "\n",
              "      async function convertToInteractive(key) {\n",
              "        const element = document.querySelector('#df-35f2d616-66e4-4ae8-a07f-390d6d4495d2');\n",
              "        const dataTable =\n",
              "          await google.colab.kernel.invokeFunction('convertToInteractive',\n",
              "                                                    [key], {});\n",
              "        if (!dataTable) return;\n",
              "\n",
              "        const docLinkHtml = 'Like what you see? Visit the ' +\n",
              "          '<a target=\"_blank\" href=https://colab.research.google.com/notebooks/data_table.ipynb>data table notebook</a>'\n",
              "          + ' to learn more about interactive tables.';\n",
              "        element.innerHTML = '';\n",
              "        dataTable['output_type'] = 'display_data';\n",
              "        await google.colab.output.renderOutput(dataTable, element);\n",
              "        const docLink = document.createElement('div');\n",
              "        docLink.innerHTML = docLinkHtml;\n",
              "        element.appendChild(docLink);\n",
              "      }\n",
              "    </script>\n",
              "  </div>\n",
              "\n",
              "\n",
              "<div id=\"df-0dd704c1-f295-4e43-9b57-d0eaa1f4482d\">\n",
              "  <button class=\"colab-df-quickchart\" onclick=\"quickchart('df-0dd704c1-f295-4e43-9b57-d0eaa1f4482d')\"\n",
              "            title=\"Suggest charts\"\n",
              "            style=\"display:none;\">\n",
              "\n",
              "<svg xmlns=\"http://www.w3.org/2000/svg\" height=\"24px\"viewBox=\"0 0 24 24\"\n",
              "     width=\"24px\">\n",
              "    <g>\n",
              "        <path d=\"M19 3H5c-1.1 0-2 .9-2 2v14c0 1.1.9 2 2 2h14c1.1 0 2-.9 2-2V5c0-1.1-.9-2-2-2zM9 17H7v-7h2v7zm4 0h-2V7h2v10zm4 0h-2v-4h2v4z\"/>\n",
              "    </g>\n",
              "</svg>\n",
              "  </button>\n",
              "\n",
              "<style>\n",
              "  .colab-df-quickchart {\n",
              "      --bg-color: #E8F0FE;\n",
              "      --fill-color: #1967D2;\n",
              "      --hover-bg-color: #E2EBFA;\n",
              "      --hover-fill-color: #174EA6;\n",
              "      --disabled-fill-color: #AAA;\n",
              "      --disabled-bg-color: #DDD;\n",
              "  }\n",
              "\n",
              "  [theme=dark] .colab-df-quickchart {\n",
              "      --bg-color: #3B4455;\n",
              "      --fill-color: #D2E3FC;\n",
              "      --hover-bg-color: #434B5C;\n",
              "      --hover-fill-color: #FFFFFF;\n",
              "      --disabled-bg-color: #3B4455;\n",
              "      --disabled-fill-color: #666;\n",
              "  }\n",
              "\n",
              "  .colab-df-quickchart {\n",
              "    background-color: var(--bg-color);\n",
              "    border: none;\n",
              "    border-radius: 50%;\n",
              "    cursor: pointer;\n",
              "    display: none;\n",
              "    fill: var(--fill-color);\n",
              "    height: 32px;\n",
              "    padding: 0;\n",
              "    width: 32px;\n",
              "  }\n",
              "\n",
              "  .colab-df-quickchart:hover {\n",
              "    background-color: var(--hover-bg-color);\n",
              "    box-shadow: 0 1px 2px rgba(60, 64, 67, 0.3), 0 1px 3px 1px rgba(60, 64, 67, 0.15);\n",
              "    fill: var(--button-hover-fill-color);\n",
              "  }\n",
              "\n",
              "  .colab-df-quickchart-complete:disabled,\n",
              "  .colab-df-quickchart-complete:disabled:hover {\n",
              "    background-color: var(--disabled-bg-color);\n",
              "    fill: var(--disabled-fill-color);\n",
              "    box-shadow: none;\n",
              "  }\n",
              "\n",
              "  .colab-df-spinner {\n",
              "    border: 2px solid var(--fill-color);\n",
              "    border-color: transparent;\n",
              "    border-bottom-color: var(--fill-color);\n",
              "    animation:\n",
              "      spin 1s steps(1) infinite;\n",
              "  }\n",
              "\n",
              "  @keyframes spin {\n",
              "    0% {\n",
              "      border-color: transparent;\n",
              "      border-bottom-color: var(--fill-color);\n",
              "      border-left-color: var(--fill-color);\n",
              "    }\n",
              "    20% {\n",
              "      border-color: transparent;\n",
              "      border-left-color: var(--fill-color);\n",
              "      border-top-color: var(--fill-color);\n",
              "    }\n",
              "    30% {\n",
              "      border-color: transparent;\n",
              "      border-left-color: var(--fill-color);\n",
              "      border-top-color: var(--fill-color);\n",
              "      border-right-color: var(--fill-color);\n",
              "    }\n",
              "    40% {\n",
              "      border-color: transparent;\n",
              "      border-right-color: var(--fill-color);\n",
              "      border-top-color: var(--fill-color);\n",
              "    }\n",
              "    60% {\n",
              "      border-color: transparent;\n",
              "      border-right-color: var(--fill-color);\n",
              "    }\n",
              "    80% {\n",
              "      border-color: transparent;\n",
              "      border-right-color: var(--fill-color);\n",
              "      border-bottom-color: var(--fill-color);\n",
              "    }\n",
              "    90% {\n",
              "      border-color: transparent;\n",
              "      border-bottom-color: var(--fill-color);\n",
              "    }\n",
              "  }\n",
              "</style>\n",
              "\n",
              "  <script>\n",
              "    async function quickchart(key) {\n",
              "      const quickchartButtonEl =\n",
              "        document.querySelector('#' + key + ' button');\n",
              "      quickchartButtonEl.disabled = true;  // To prevent multiple clicks.\n",
              "      quickchartButtonEl.classList.add('colab-df-spinner');\n",
              "      try {\n",
              "        const charts = await google.colab.kernel.invokeFunction(\n",
              "            'suggestCharts', [key], {});\n",
              "      } catch (error) {\n",
              "        console.error('Error during call to suggestCharts:', error);\n",
              "      }\n",
              "      quickchartButtonEl.classList.remove('colab-df-spinner');\n",
              "      quickchartButtonEl.classList.add('colab-df-quickchart-complete');\n",
              "    }\n",
              "    (() => {\n",
              "      let quickchartButtonEl =\n",
              "        document.querySelector('#df-0dd704c1-f295-4e43-9b57-d0eaa1f4482d button');\n",
              "      quickchartButtonEl.style.display =\n",
              "        google.colab.kernel.accessAllowed ? 'block' : 'none';\n",
              "    })();\n",
              "  </script>\n",
              "</div>\n",
              "\n",
              "    </div>\n",
              "  </div>\n"
            ],
            "application/vnd.google.colaboratory.intrinsic+json": {
              "type": "dataframe",
              "variable_name": "df",
              "summary": "{\n  \"name\": \"df\",\n  \"rows\": 400,\n  \"fields\": [\n    {\n      \"column\": \"Gender\",\n      \"properties\": {\n        \"dtype\": \"number\",\n        \"std\": 0,\n        \"min\": 0,\n        \"max\": 1,\n        \"num_unique_values\": 2,\n        \"samples\": [\n          0,\n          1\n        ],\n        \"semantic_type\": \"\",\n        \"description\": \"\"\n      }\n    },\n    {\n      \"column\": \"Age\",\n      \"properties\": {\n        \"dtype\": \"number\",\n        \"std\": 10,\n        \"min\": 18,\n        \"max\": 60,\n        \"num_unique_values\": 43,\n        \"samples\": [\n          50,\n          39\n        ],\n        \"semantic_type\": \"\",\n        \"description\": \"\"\n      }\n    },\n    {\n      \"column\": \"EstimatedSalary\",\n      \"properties\": {\n        \"dtype\": \"number\",\n        \"std\": 34096,\n        \"min\": 15000,\n        \"max\": 150000,\n        \"num_unique_values\": 117,\n        \"samples\": [\n          117000,\n          76000\n        ],\n        \"semantic_type\": \"\",\n        \"description\": \"\"\n      }\n    },\n    {\n      \"column\": \"Purchased\",\n      \"properties\": {\n        \"dtype\": \"number\",\n        \"std\": 0,\n        \"min\": 0,\n        \"max\": 1,\n        \"num_unique_values\": 2,\n        \"samples\": [\n          1,\n          0\n        ],\n        \"semantic_type\": \"\",\n        \"description\": \"\"\n      }\n    }\n  ]\n}"
            }
          },
          "metadata": {},
          "execution_count": 3
        }
      ],
      "source": [
        "df.head()"
      ]
    },
    {
      "cell_type": "markdown",
      "metadata": {
        "id": "EbA_qY9Nhuc3"
      },
      "source": [
        "# **MLP Classifier**"
      ]
    },
    {
      "cell_type": "code",
      "execution_count": null,
      "metadata": {
        "id": "JVkKmG1yhuc4",
        "colab": {
          "base_uri": "https://localhost:8080/"
        },
        "outputId": "3ccba9eb-5168-49f3-ee43-c4687965c672"
      },
      "outputs": [
        {
          "output_type": "stream",
          "name": "stdout",
          "text": [
            "Best MLP Classifier Accuracy (Normalized Data): 92.5\n",
            "Hyperparameters for Best MLP Classifier:\n",
            "  - hidden_layer_sizes: (50, 50)\n",
            "  - activation: relu\n",
            "  - solver: adam\n",
            "  - alpha: 0.0001\n",
            "  - learning_rate: adaptive\n",
            "Best MLP Classifier Predictions on Testing Set (Normalized Data):\n",
            "[1 1 0 1 0 0 1 0 0 0 0 1 0 0 0 1 1 0 0 1 0 0 1 1 0 1 1 0 1 0 1 0 1 0 1 0 0\n",
            " 0 0 0 1 0 0 1 0 1 0 0 1 0 0 1 0 0 0 0 1 1 0 0 0 0 1 0 0 1 1 1 0 1 1 0 0 0\n",
            " 1 0 1 1 0 0]\n",
            "Best MLP Classifier Accuracy (Standardized Data): 92.5\n",
            "Hyperparameters for Best MLP Classifier:\n",
            "  - hidden_layer_sizes: (10, 10)\n",
            "  - activation: tanh\n",
            "  - solver: adam\n",
            "  - alpha: 0.0001\n",
            "  - learning_rate: adaptive\n",
            "Best MLP Classifier Predictions on Testing Set (Standardized Data):\n",
            "[1 1 0 1 0 0 1 0 0 0 0 1 0 0 0 1 1 0 0 1 0 0 1 1 0 1 0 0 1 0 1 0 1 0 1 0 0\n",
            " 0 0 0 1 0 0 1 0 1 0 0 1 0 0 1 0 0 0 0 1 1 0 0 0 0 1 0 0 1 0 1 0 1 1 0 0 0\n",
            " 1 0 1 1 0 0]\n"
          ]
        }
      ],
      "source": [
        "# Define the MLPClassifier\n",
        "mlp = MLPClassifier(max_iter=1000)\n",
        "\n",
        "# Define the parameter grid for hyperparameter tuning\n",
        "parameter_space = {\n",
        "    'hidden_layer_sizes': [(10,10), (50,50), (100,)],\n",
        "    'activation': ['tanh', 'relu'],\n",
        "    'solver': ['sgd', 'adam'],\n",
        "    'alpha': [0.0001, 0.05],\n",
        "    'learning_rate': ['constant','adaptive'],}\n",
        "\n",
        "# Perform GridSearchCV to find the best hyperparameters\n",
        "clf = GridSearchCV(mlp, parameter_space, n_jobs=-1, cv=5)\n",
        "clf.fit(X_train_normalized, y_train_smote)\n",
        "\n",
        "# Best parameters and best score\n",
        "best_params_MLP = clf.best_params_\n",
        "best_score = clf.best_score_\n",
        "\n",
        "# Test the best MLP Classifier\n",
        "mlp_best = clf.best_estimator_\n",
        "mlp_predictions = mlp_best.predict(X_test_normalized)\n",
        "mlp1_accuracy = accuracy_score(y_test, mlp_predictions)\n",
        "\n",
        "print(\"Best MLP Classifier Accuracy (Normalized Data):\", mlp1_accuracy * 100)\n",
        "print(\"Hyperparameters for Best MLP Classifier:\")\n",
        "print(\"  - hidden_layer_sizes:\", best_params_MLP['hidden_layer_sizes'])\n",
        "print(\"  - activation:\", best_params_MLP['activation'])\n",
        "print(\"  - solver:\", best_params_MLP['solver'])\n",
        "print(\"  - alpha:\", best_params_MLP['alpha'])\n",
        "print(\"  - learning_rate:\", best_params_MLP['learning_rate'])\n",
        "print(\"Best MLP Classifier Predictions on Testing Set (Normalized Data):\")\n",
        "print(mlp_predictions)\n",
        "\n",
        "\n",
        "# Perform GridSearchCV with standardized data\n",
        "clf.fit(X_train_scaled, y_train)\n",
        "\n",
        "# Best parameters and best score\n",
        "best_params_MLP2 = clf.best_params_\n",
        "best_score = clf.best_score_\n",
        "\n",
        "# Test the best MLP Classifier\n",
        "mlp_best = clf.best_estimator_\n",
        "mlp_predictions = mlp_best.predict(X_test_scaled)\n",
        "mlp_accuracy = accuracy_score(y_test, mlp_predictions)\n",
        "\n",
        "print(\"Best MLP Classifier Accuracy (Standardized Data):\", mlp_accuracy * 100)\n",
        "print(\"Hyperparameters for Best MLP Classifier:\")\n",
        "print(\"  - hidden_layer_sizes:\", best_params_MLP2['hidden_layer_sizes'])\n",
        "print(\"  - activation:\", best_params_MLP2['activation'])\n",
        "print(\"  - solver:\", best_params_MLP2['solver'])\n",
        "print(\"  - alpha:\", best_params_MLP2['alpha'])\n",
        "print(\"  - learning_rate:\", best_params_MLP2['learning_rate'])\n",
        "print(\"Best MLP Classifier Predictions on Testing Set (Standardized Data):\")\n",
        "print(mlp_predictions)\n"
      ]
    },
    {
      "cell_type": "markdown",
      "source": [
        "# **SVM Classifier**"
      ],
      "metadata": {
        "id": "1WdNu4gNNnwS"
      }
    },
    {
      "cell_type": "code",
      "source": [
        "\n",
        "# Define the SVM Classifier\n",
        "svm = SVC()\n",
        "\n",
        "# Define the parameter grid for hyperparameter tuning\n",
        "parameter_grid = {\n",
        "    'C': [0.1, 1, 10, 100],\n",
        "    'gamma': [1, 0.1, 0.01, 0.001],\n",
        "    'kernel': ['linear', 'rbf']\n",
        "}\n",
        "\n",
        "# Perform GridSearchCV to find the best hyperparameters\n",
        "grid_search = GridSearchCV(svm, parameter_grid, refit=True, verbose=2, cv=5, n_jobs=-1)\n",
        "grid_search.fit(X_train_scaled, y_train)\n",
        "\n",
        "# Best parameters and best score\n",
        "best_params = grid_search.best_params_\n",
        "best_score = grid_search.best_score_\n",
        "\n",
        "# Test the best SVM Classifier\n",
        "svm_best = grid_search.best_estimator_\n",
        "svm_predictions = svm_best.predict(X_test_scaled)\n",
        "svm_accuracy = accuracy_score(y_test, svm_predictions)\n",
        "\n",
        "print(\"Best SVM Classifier Accuracy:\", svm_accuracy * 100)\n",
        "print(\"Hyperparameters for Best SVM Classifier:\")\n",
        "print(\"  - C:\", best_params['C'])\n",
        "print(\"  - gamma:\", best_params['gamma'])\n",
        "print(\"  - kernel:\", best_params['kernel'])\n",
        "print(\"Best SVM Classifier Predictions on Testing Set:\")\n",
        "print(svm_predictions)\n"
      ],
      "metadata": {
        "id": "U1kuSijXNmky",
        "outputId": "7f5d6d61-6779-47c8-eb53-3c99fc06bd02",
        "colab": {
          "base_uri": "https://localhost:8080/"
        }
      },
      "execution_count": null,
      "outputs": [
        {
          "output_type": "stream",
          "name": "stdout",
          "text": [
            "Fitting 5 folds for each of 32 candidates, totalling 160 fits\n",
            "Best SVM Classifier Accuracy: 92.5\n",
            "Hyperparameters for Best SVM Classifier:\n",
            "  - C: 1\n",
            "  - gamma: 1\n",
            "  - kernel: rbf\n",
            "Best SVM Classifier Predictions on Testing Set:\n",
            "[1 1 0 1 0 0 1 0 0 0 0 1 0 0 0 1 1 0 0 1 0 0 1 1 0 1 0 0 1 0 1 0 1 0 1 0 0\n",
            " 0 0 0 1 0 0 1 0 1 0 0 1 0 0 1 0 0 0 0 1 1 0 0 0 0 1 0 0 1 0 1 0 1 1 0 0 0\n",
            " 1 0 1 1 0 0]\n"
          ]
        }
      ]
    },
    {
      "cell_type": "code",
      "source": [
        "print(best_params)\n"
      ],
      "metadata": {
        "colab": {
          "base_uri": "https://localhost:8080/"
        },
        "id": "u0HYRCT58aF5",
        "outputId": "4e0b6614-2f4e-48a3-db85-f5f39b95e9e9"
      },
      "execution_count": null,
      "outputs": [
        {
          "output_type": "stream",
          "name": "stdout",
          "text": [
            "{'activation': 'tanh', 'alpha': 0.0001, 'hidden_layer_sizes': (10, 10), 'learning_rate': 'adaptive', 'solver': 'adam'}\n"
          ]
        }
      ]
    },
    {
      "cell_type": "markdown",
      "source": [
        "# Visualization of tuning"
      ],
      "metadata": {
        "id": "jsUC7yf73Eir"
      }
    },
    {
      "cell_type": "code",
      "source": [
        "\n",
        "# Define a range of max depth values to test\n",
        "c_values = [1, 10, 100]\n",
        "\n",
        "# Initialize an empty list to store accuracy values\n",
        "c_accuracy_values = []\n",
        "\n",
        "# Train decision tree classifiers with different max depth values\n",
        "for C in c_values:\n",
        "    # Initialize and train decision tree classifier\n",
        "    svm = SVC(C=C, random_state=42)\n",
        "    svm.fit(X_train_scaled, y_train)\n",
        "\n",
        "    # Make predictions on the test set\n",
        "    svm_predictions = svm.predict(X_test)\n",
        "\n",
        "    # Calculate accuracy and append to list\n",
        "    c_accuracy = accuracy_score(y_test, svm_predictions)\n",
        "    c_accuracy_values.append(svm_accuracy)\n",
        "\n",
        "# Plot the relationship between max depth and accuracy\n",
        "plt.plot(c_values, c_accuracy_values, marker='o')\n",
        "plt.title('SVM Accuracy by c')\n",
        "plt.xlabel('c')\n",
        "plt.ylabel('Accuracy')\n",
        "plt.xticks(c_values)\n",
        "plt.grid(True)\n",
        "plt.show()\n"
      ],
      "metadata": {
        "colab": {
          "base_uri": "https://localhost:8080/",
          "height": 601
        },
        "id": "ZfUd9kiNhCtI",
        "outputId": "f0ff943f-643a-4865-a7de-041874bd2082"
      },
      "execution_count": null,
      "outputs": [
        {
          "output_type": "stream",
          "name": "stderr",
          "text": [
            "/usr/local/lib/python3.10/dist-packages/sklearn/base.py:432: UserWarning: X has feature names, but SVC was fitted without feature names\n",
            "  warnings.warn(\n",
            "/usr/local/lib/python3.10/dist-packages/sklearn/base.py:432: UserWarning: X has feature names, but SVC was fitted without feature names\n",
            "  warnings.warn(\n",
            "/usr/local/lib/python3.10/dist-packages/sklearn/base.py:432: UserWarning: X has feature names, but SVC was fitted without feature names\n",
            "  warnings.warn(\n"
          ]
        },
        {
          "output_type": "display_data",
          "data": {
            "text/plain": [
              "<Figure size 640x480 with 1 Axes>"
            ],
            "image/png": "[encoded data removed]"
          },
          "metadata": {}
        }
      ]
    },
    {
      "cell_type": "code",
      "source": [
        "import matplotlib.pyplot as plt\n",
        "\n",
        "# Aggregate mean test scores for each unique value of C\n",
        "mean_test_scores_aggregated = []\n",
        "for c_value in unique_c:\n",
        "    mean_test_scores_aggregated.append(np.mean([mean_test_scores[i] for i, param in enumerate(params) if param['C'] == c_value]))\n",
        "\n",
        "# Plot accuracy vs. C\n",
        "plt.figure(figsize=(10, 6))\n",
        "plt.plot(unique_c, mean_test_scores_aggregated, marker='o', linestyle='-')\n",
        "plt.title('Model Prediction Accuracy vs. C')\n",
        "plt.xlabel('C')\n",
        "plt.ylabel('Mean Test Score')\n",
        "plt.xscale('log')  # Use logarithmic scale for better visualization if C values are large\n",
        "plt.grid(True)\n",
        "plt.show()\n"
      ],
      "metadata": {
        "colab": {
          "base_uri": "https://localhost:8080/",
          "height": 569
        },
        "id": "YeSvxTMC4D67",
        "outputId": "66c54c78-9746-4745-c8c4-62da764ae276"
      },
      "execution_count": null,
      "outputs": [
        {
          "output_type": "display_data",
          "data": {
            "text/plain": [
              "<Figure size 1000x600 with 1 Axes>"
            ],
            "image/png": "[encoded data removed]"
          },
          "metadata": {}
        }
      ]
    },
    {
      "cell_type": "markdown",
      "source": [
        "# **Decision Tree Classifier**"
      ],
      "metadata": {
        "id": "NoFdeeQG-edD"
      }
    },
    {
      "cell_type": "code",
      "source": [
        "# Define the Decision Tree Classifier\n",
        "decision_tree = DecisionTreeClassifier()\n",
        "\n",
        "# Define the parameter grid for hyperparameter tuning\n",
        "parameter_grid = {\n",
        "    'criterion': ['gini', 'entropy'],\n",
        "    'max_depth': [None, 2, 4, 6, 8, 10, 20, 30],\n",
        "    'min_samples_split': [1, 2, 3, 4, 5, 6, 7, 8, 9, 10],\n",
        "    'min_samples_leaf': [1, 2, 4],\n",
        "    'max_features': [None, 'auto', 'sqrt', 'log2'],\n",
        "}\n",
        "\n",
        "# Perform GridSearchCV to find the best hyperparameters\n",
        "grid_search = GridSearchCV(decision_tree, parameter_grid, refit=True, verbose=2, cv=5, n_jobs=-1)\n",
        "# Decision tree performance is not affected by scaling differences so,no need to use scaled\n",
        "grid_search.fit(X_train_smote, y_train_smote)\n",
        "\n",
        "# Best parameters and best score\n",
        "best_params_DT = grid_search.best_params_\n",
        "best_score = grid_search.best_score_\n",
        "\n",
        "# Test the best Decision Tree Classifier\n",
        "decision_tree_best = grid_search.best_estimator_\n",
        "decision_tree_predictions = decision_tree_best.predict(X_test)\n",
        "decision_tree_accuracy = accuracy_score(y_test, decision_tree_predictions)\n",
        "\n",
        "print(\"Best Decision Tree Classifier Accuracy:\", decision_tree_accuracy * 100)\n",
        "print(\"Hyperparameters for Best Decision Tree Classifier:\")\n",
        "print(\"  - criterion:\", best_params_DT['criterion'])\n",
        "print(\"  - max_depth:\", best_params_DT['max_depth'])\n",
        "print(\"  - min_samples_split:\", best_params_DT['min_samples_split'])\n",
        "print(\"  - min_samples_leaf:\", best_params_DT['min_samples_leaf'])\n",
        "print(\"  - max_features:\", best_params_DT['max_features'])\n",
        "print(\"Best Decision Tree Classifier Predictions on Testing Set:\")\n",
        "print(decision_tree_predictions)\n"
      ],
      "metadata": {
        "id": "T1iFu61R-2Vo",
        "outputId": "3b4de1ff-07cd-4435-87c0-ac2f87ca1a05",
        "colab": {
          "base_uri": "https://localhost:8080/"
        }
      },
      "execution_count": null,
      "outputs": [
        {
          "output_type": "stream",
          "name": "stdout",
          "text": [
            "Fitting 5 folds for each of 1920 candidates, totalling 9600 fits\n",
            "Best Decision Tree Classifier Accuracy: 91.25\n",
            "Hyperparameters for Best Decision Tree Classifier:\n",
            "  - criterion: gini\n",
            "  - max_depth: 2\n",
            "  - min_samples_split: 2\n",
            "  - min_samples_leaf: 1\n",
            "  - max_features: None\n",
            "Best Decision Tree Classifier Predictions on Testing Set:\n",
            "[1 1 0 1 0 0 1 0 0 0 0 1 0 0 0 1 1 1 0 1 0 0 1 1 0 1 0 0 1 0 1 0 1 0 1 0 0\n",
            " 0 0 0 1 0 0 1 0 1 0 0 1 0 0 1 0 0 0 0 1 1 0 0 0 0 1 0 0 1 0 1 0 1 1 0 0 0\n",
            " 1 0 1 1 0 0]\n"
          ]
        },
        {
          "output_type": "stream",
          "name": "stderr",
          "text": [
            "/usr/local/lib/python3.10/dist-packages/sklearn/model_selection/_validation.py:378: FitFailedWarning: \n",
            "960 fits failed out of a total of 9600.\n",
            "The score on these train-test partitions for these parameters will be set to nan.\n",
            "If these failures are not expected, you can try to debug them by setting error_score='raise'.\n",
            "\n",
            "Below are more details about the failures:\n",
            "--------------------------------------------------------------------------------\n",
            "960 fits failed with the following error:\n",
            "Traceback (most recent call last):\n",
            "  File \"/usr/local/lib/python3.10/dist-packages/sklearn/model_selection/_validation.py\", line 686, in _fit_and_score\n",
            "    estimator.fit(X_train, y_train, **fit_params)\n",
            "  File \"/usr/local/lib/python3.10/dist-packages/sklearn/tree/_classes.py\", line 889, in fit\n",
            "    super().fit(\n",
            "  File \"/usr/local/lib/python3.10/dist-packages/sklearn/tree/_classes.py\", line 177, in fit\n",
            "    self._validate_params()\n",
            "  File \"/usr/local/lib/python3.10/dist-packages/sklearn/base.py\", line 600, in _validate_params\n",
            "    validate_parameter_constraints(\n",
            "  File \"/usr/local/lib/python3.10/dist-packages/sklearn/utils/_param_validation.py\", line 97, in validate_parameter_constraints\n",
            "    raise InvalidParameterError(\n",
            "sklearn.utils._param_validation.InvalidParameterError: The 'min_samples_split' parameter of DecisionTreeClassifier must be an int in the range [2, inf) or a float in the range (0.0, 1.0]. Got 1 instead.\n",
            "\n",
            "  warnings.warn(some_fits_failed_message, FitFailedWarning)\n",
            "/usr/local/lib/python3.10/dist-packages/sklearn/model_selection/_search.py:952: UserWarning: One or more of the test scores are non-finite: [       nan 0.88292683 0.87073171 ... 0.89512195 0.8902439  0.88292683]\n",
            "  warnings.warn(\n"
          ]
        }
      ]
    },
    {
      "cell_type": "markdown",
      "source": [],
      "metadata": {
        "id": "d33xsV4O1yS1"
      }
    },
    {
      "cell_type": "markdown",
      "source": [
        "# Visualization of tuning max depth hyperparameter"
      ],
      "metadata": {
        "id": "jfcO7yfy10yr"
      }
    },
    {
      "cell_type": "code",
      "source": [
        "\n",
        "# Define a range of max depth values to test\n",
        "max_depth_values = list(range(1, 11))\n",
        "\n",
        "# Initialize an empty list to store accuracy values\n",
        "accuracy_values = []\n",
        "\n",
        "# Train decision tree classifiers with different max depth values\n",
        "for max_depth in max_depth_values:\n",
        "    # Initialize and train decision tree classifier\n",
        "    decision_tree = DecisionTreeClassifier(max_depth=max_depth, random_state=42)\n",
        "    decision_tree.fit(X_train_smote, y_train_smote)\n",
        "\n",
        "    # Make predictions on the test set\n",
        "    decision_tree_predictions = decision_tree.predict(X_test)\n",
        "\n",
        "    # Calculate accuracy and append to list\n",
        "    accuracy = accuracy_score(y_test, decision_tree_predictions)\n",
        "    accuracy_values.append(accuracy)\n",
        "\n",
        "# Plot the relationship between max depth and accuracy\n",
        "plt.plot(max_depth_values, accuracy_values, marker='o')\n",
        "plt.title('Decision Tree Accuracy by Max Depth')\n",
        "plt.xlabel('Max Depth')\n",
        "plt.ylabel('Accuracy')\n",
        "plt.xticks(max_depth_values)\n",
        "plt.grid(True)\n",
        "plt.show()\n"
      ],
      "metadata": {
        "colab": {
          "base_uri": "https://localhost:8080/",
          "height": 472
        },
        "id": "Tri1hQsj1xsY",
        "outputId": "505d89b2-0176-4583-d2c0-3ec58dc79da3"
      },
      "execution_count": null,
      "outputs": [
        {
          "output_type": "display_data",
          "data": {
            "text/plain": [
              "<Figure size 640x480 with 1 Axes>"
            ],
            "image/png": "[encoded data removed]"
          },
          "metadata": {}
        }
      ]
    },
    {
      "cell_type": "code",
      "source": [
        "classifiers = ['MLP', 'SVM', 'Decision Tree']\n",
        "accuracies = [mlp_accuracy, svm_accuracy, decision_tree_accuracy]\n",
        "\n",
        "plt.bar(classifiers, accuracies, color=['blue', 'red', 'yellow'])\n",
        "plt.xlabel('Classifier')\n",
        "plt.ylabel('Accuracy')\n",
        "plt.title('Comparison of Classifier Accuracies')\n",
        "plt.ylim(0, 1)  # Set y-axis limit to 0-1 for accuracy percentage\n",
        "plt.show()"
      ],
      "metadata": {
        "colab": {
          "base_uri": "https://localhost:8080/",
          "height": 472
        },
        "id": "zAZ8J40Hr8So",
        "outputId": "a9cab3f9-b814-482d-dab0-8fe94fefdea0"
      },
      "execution_count": null,
      "outputs": [
        {
          "output_type": "display_data",
          "data": {
            "text/plain": [
              "<Figure size 640x480 with 1 Axes>"
            ],
            "image/png": "[encoded data removed]"
          },
          "metadata": {}
        }
      ]
    },
    {
      "cell_type": "markdown",
      "source": [],
      "metadata": {
        "id": "xZNOndgU-18f"
      }
    }
  ],
  "metadata": {
    "kernelspec": {
      "display_name": "Python 3",
      "language": "python",
      "name": "python3"
    },
    "language_info": {
      "codemirror_mode": {
        "name": "ipython",
        "version": 3
      },
      "file_extension": ".py",
      "mimetype": "text/x-python",
      "name": "python",
      "nbconvert_exporter": "python",
      "pygments_lexer": "ipython3",
      "version": "3.10.7"
    },
    "colab": {
      "provenance": [],
      "include_colab_link": true
    }
  },
  "nbformat": 4,
  "nbformat_minor": 0
}